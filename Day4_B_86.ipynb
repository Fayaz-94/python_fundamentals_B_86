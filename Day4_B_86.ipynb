{
 "cells": [
  {
   "cell_type": "code",
   "execution_count": null,
   "id": "eeac5d03",
   "metadata": {},
   "outputs": [],
   "source": [
    "introduction to list datatype :"
   ]
  },
  {
   "cell_type": "code",
   "execution_count": null,
   "id": "7b01b55c",
   "metadata": {},
   "outputs": [],
   "source": [
    "defination : A list is a collection of items declared in a particular order.\n",
    "    \n",
    "classification : It is classified as a mutable datatype\n",
    "    \n",
    "how to declare a list datatype ====> []"
   ]
  },
  {
   "cell_type": "code",
   "execution_count": null,
   "id": "ab38ed74",
   "metadata": {},
   "outputs": [],
   "source": []
  },
  {
   "cell_type": "code",
   "execution_count": 1,
   "id": "7de1b3ca",
   "metadata": {},
   "outputs": [],
   "source": [
    "students = ['roshini','naveena','kumar','joseph','abdul','kareem']  # 0,1,2,3,4,5"
   ]
  },
  {
   "cell_type": "code",
   "execution_count": 2,
   "id": "ce622d03",
   "metadata": {},
   "outputs": [
    {
     "name": "stdout",
     "output_type": "stream",
     "text": [
      "['roshini', 'naveena', 'kumar', 'joseph', 'abdul', 'kareem']\n"
     ]
    }
   ],
   "source": [
    "print(students)"
   ]
  },
  {
   "cell_type": "code",
   "execution_count": 3,
   "id": "ef1b27c1",
   "metadata": {},
   "outputs": [
    {
     "data": {
      "text/plain": [
       "list"
      ]
     },
     "execution_count": 3,
     "metadata": {},
     "output_type": "execute_result"
    }
   ],
   "source": [
    "type(students)"
   ]
  },
  {
   "cell_type": "code",
   "execution_count": null,
   "id": "f75599df",
   "metadata": {},
   "outputs": [],
   "source": [
    "introduction to indexing : 0,1,2,3,4......."
   ]
  },
  {
   "cell_type": "code",
   "execution_count": null,
   "id": "12920112",
   "metadata": {},
   "outputs": [],
   "source": [
    "# req I want to access Naveenas name in the ouput.....?"
   ]
  },
  {
   "cell_type": "code",
   "execution_count": 4,
   "id": "146c3c77",
   "metadata": {},
   "outputs": [
    {
     "name": "stdout",
     "output_type": "stream",
     "text": [
      "naveena\n"
     ]
    }
   ],
   "source": [
    "print(students[1])"
   ]
  },
  {
   "cell_type": "code",
   "execution_count": 5,
   "id": "bcfe35f8",
   "metadata": {},
   "outputs": [
    {
     "name": "stdout",
     "output_type": "stream",
     "text": [
      "Naveena\n"
     ]
    }
   ],
   "source": [
    "print(students[1].title())"
   ]
  },
  {
   "cell_type": "code",
   "execution_count": 6,
   "id": "4361cc4c",
   "metadata": {},
   "outputs": [
    {
     "name": "stdout",
     "output_type": "stream",
     "text": [
      "Joseph\n"
     ]
    }
   ],
   "source": [
    "print(students[3].title())"
   ]
  },
  {
   "cell_type": "code",
   "execution_count": null,
   "id": "6d665f43",
   "metadata": {},
   "outputs": [],
   "source": [
    "1. how to add new elements to the list =================> completed\n",
    "2. how to modify the elements in the list ==============> Completed\n",
    "3. how to delete the elements in the list"
   ]
  },
  {
   "cell_type": "code",
   "execution_count": null,
   "id": "8748ec06",
   "metadata": {},
   "outputs": [],
   "source": [
    "# req : i want to add jadhav in the above list"
   ]
  },
  {
   "cell_type": "code",
   "execution_count": 7,
   "id": "390eff34",
   "metadata": {},
   "outputs": [],
   "source": [
    "students.append('jadhav')"
   ]
  },
  {
   "cell_type": "code",
   "execution_count": 8,
   "id": "7b6d437f",
   "metadata": {},
   "outputs": [
    {
     "name": "stdout",
     "output_type": "stream",
     "text": [
      "['roshini', 'naveena', 'kumar', 'joseph', 'abdul', 'kareem', 'jadhav']\n"
     ]
    }
   ],
   "source": [
    "print(students)"
   ]
  },
  {
   "cell_type": "code",
   "execution_count": null,
   "id": "f9f9145d",
   "metadata": {},
   "outputs": [],
   "source": [
    "# req : i want to add karthik in the above list"
   ]
  },
  {
   "cell_type": "code",
   "execution_count": 9,
   "id": "6f53dced",
   "metadata": {},
   "outputs": [],
   "source": [
    "students.append('karthik')"
   ]
  },
  {
   "cell_type": "code",
   "execution_count": 10,
   "id": "d60a4ca4",
   "metadata": {},
   "outputs": [
    {
     "name": "stdout",
     "output_type": "stream",
     "text": [
      "['roshini', 'naveena', 'kumar', 'joseph', 'abdul', 'kareem', 'jadhav', 'karthik']\n"
     ]
    }
   ],
   "source": [
    "print(students)"
   ]
  },
  {
   "cell_type": "code",
   "execution_count": null,
   "id": "d9fcf432",
   "metadata": {},
   "outputs": [],
   "source": [
    "# req : i want to add Rakesh in the above list in 2nd index position"
   ]
  },
  {
   "cell_type": "code",
   "execution_count": 11,
   "id": "7021f102",
   "metadata": {},
   "outputs": [],
   "source": [
    "students.insert(2,'rakesh')"
   ]
  },
  {
   "cell_type": "code",
   "execution_count": 12,
   "id": "47f43f19",
   "metadata": {},
   "outputs": [
    {
     "name": "stdout",
     "output_type": "stream",
     "text": [
      "['roshini', 'naveena', 'rakesh', 'kumar', 'joseph', 'abdul', 'kareem', 'jadhav', 'karthik']\n"
     ]
    }
   ],
   "source": [
    "print(students)"
   ]
  },
  {
   "cell_type": "code",
   "execution_count": null,
   "id": "b8d025b8",
   "metadata": {},
   "outputs": [],
   "source": [
    "int_question : what is the diff between append method and insert method in a list datatype, can you pls explain?"
   ]
  },
  {
   "cell_type": "code",
   "execution_count": null,
   "id": "d641b12e",
   "metadata": {},
   "outputs": [],
   "source": []
  },
  {
   "cell_type": "code",
   "execution_count": 13,
   "id": "15a6139f",
   "metadata": {},
   "outputs": [
    {
     "name": "stdout",
     "output_type": "stream",
     "text": [
      "['roshini', 'naveena', 'rakesh', 'kumar', 'joseph', 'abdul', 'kareem', 'jadhav', 'karthik']\n"
     ]
    }
   ],
   "source": [
    "print(students)"
   ]
  },
  {
   "cell_type": "code",
   "execution_count": null,
   "id": "5a00b612",
   "metadata": {},
   "outputs": [],
   "source": [
    "# req : i want to modify naveena name to suresh"
   ]
  },
  {
   "cell_type": "code",
   "execution_count": 14,
   "id": "8ab389cc",
   "metadata": {},
   "outputs": [],
   "source": [
    "students[1] = 'suresh'"
   ]
  },
  {
   "cell_type": "code",
   "execution_count": 15,
   "id": "afa029a2",
   "metadata": {},
   "outputs": [
    {
     "name": "stdout",
     "output_type": "stream",
     "text": [
      "['roshini', 'suresh', 'rakesh', 'kumar', 'joseph', 'abdul', 'kareem', 'jadhav', 'karthik']\n"
     ]
    }
   ],
   "source": [
    "print(students)"
   ]
  },
  {
   "cell_type": "code",
   "execution_count": 16,
   "id": "52990826",
   "metadata": {},
   "outputs": [],
   "source": [
    "del students[0]  # permanent deleting."
   ]
  },
  {
   "cell_type": "code",
   "execution_count": 17,
   "id": "7329fbb7",
   "metadata": {},
   "outputs": [
    {
     "name": "stdout",
     "output_type": "stream",
     "text": [
      "['suresh', 'rakesh', 'kumar', 'joseph', 'abdul', 'kareem', 'jadhav', 'karthik']\n"
     ]
    }
   ],
   "source": [
    "print(students)"
   ]
  },
  {
   "cell_type": "code",
   "execution_count": null,
   "id": "c7f8eb87",
   "metadata": {},
   "outputs": [],
   "source": []
  },
  {
   "cell_type": "code",
   "execution_count": null,
   "id": "fa838d51",
   "metadata": {},
   "outputs": [],
   "source": [
    "# temporory deleting ====> pop method **"
   ]
  },
  {
   "cell_type": "code",
   "execution_count": 18,
   "id": "4a23753b",
   "metadata": {},
   "outputs": [],
   "source": [
    "x = students.pop()"
   ]
  },
  {
   "cell_type": "code",
   "execution_count": 19,
   "id": "96cd6707",
   "metadata": {},
   "outputs": [
    {
     "name": "stdout",
     "output_type": "stream",
     "text": [
      "['suresh', 'rakesh', 'kumar', 'joseph', 'abdul', 'kareem', 'jadhav']\n"
     ]
    }
   ],
   "source": [
    "print(students)"
   ]
  },
  {
   "cell_type": "code",
   "execution_count": 20,
   "id": "4a5357e7",
   "metadata": {},
   "outputs": [
    {
     "name": "stdout",
     "output_type": "stream",
     "text": [
      "karthik\n"
     ]
    }
   ],
   "source": [
    "print(x)"
   ]
  },
  {
   "cell_type": "code",
   "execution_count": null,
   "id": "f314906e",
   "metadata": {},
   "outputs": [],
   "source": [
    "note : pop method by defualt deletes the last element from the list"
   ]
  },
  {
   "cell_type": "code",
   "execution_count": 21,
   "id": "6e4b4d72",
   "metadata": {},
   "outputs": [
    {
     "name": "stdout",
     "output_type": "stream",
     "text": [
      "['suresh', 'rakesh', 'kumar', 'joseph', 'abdul', 'kareem', 'jadhav']\n"
     ]
    }
   ],
   "source": [
    "print(students)"
   ]
  },
  {
   "cell_type": "code",
   "execution_count": 22,
   "id": "b2048c2c",
   "metadata": {},
   "outputs": [],
   "source": [
    "a = students.pop(0)"
   ]
  },
  {
   "cell_type": "code",
   "execution_count": 23,
   "id": "b0981bcb",
   "metadata": {},
   "outputs": [
    {
     "name": "stdout",
     "output_type": "stream",
     "text": [
      "['rakesh', 'kumar', 'joseph', 'abdul', 'kareem', 'jadhav']\n"
     ]
    }
   ],
   "source": [
    "print(students)"
   ]
  },
  {
   "cell_type": "code",
   "execution_count": 24,
   "id": "70d46bbe",
   "metadata": {},
   "outputs": [
    {
     "name": "stdout",
     "output_type": "stream",
     "text": [
      "suresh\n"
     ]
    }
   ],
   "source": [
    "print(a)"
   ]
  },
  {
   "cell_type": "code",
   "execution_count": null,
   "id": "7e3851c8",
   "metadata": {},
   "outputs": [],
   "source": []
  }
 ],
 "metadata": {
  "kernelspec": {
   "display_name": "Python 3 (ipykernel)",
   "language": "python",
   "name": "python3"
  },
  "language_info": {
   "codemirror_mode": {
    "name": "ipython",
    "version": 3
   },
   "file_extension": ".py",
   "mimetype": "text/x-python",
   "name": "python",
   "nbconvert_exporter": "python",
   "pygments_lexer": "ipython3",
   "version": "3.9.12"
  }
 },
 "nbformat": 4,
 "nbformat_minor": 5
}
